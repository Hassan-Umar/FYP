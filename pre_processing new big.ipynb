{
 "cells": [
  {
   "cell_type": "code",
   "execution_count": 1,
   "metadata": {},
   "outputs": [],
   "source": [
    "# jupyter notebook --NotebookApp.iopub_data_rate_limit=1.0e10"
   ]
  },
  {
   "cell_type": "code",
   "execution_count": 1,
   "metadata": {
    "colab": {
     "background_save": true,
     "base_uri": "https://localhost:8080/",
     "height": 231,
     "output_embedded_package_id": "1sJr5-rAHIWj94Fnap2rxY-H3KeMUWAx0"
    },
    "executionInfo": {
     "elapsed": 1146,
     "status": "error",
     "timestamp": 1602945248193,
     "user": {
      "displayName": "sikandar khan",
      "photoUrl": "https://lh3.googleusercontent.com/a-/AOh14Ggk6dalLZPt_ySYiyVN7RQRbUcdiJcaDugNNoheog=s64",
      "userId": "01236351318923147467"
     },
     "user_tz": -300
    },
    "id": "SxyXqixISY9K",
    "outputId": "729240cd-f2d7-4d20-9efd-b1e7b22c936f"
   },
   "outputs": [],
   "source": [
    "import csv\n",
    "\n",
    "reviews=[]\n",
    "for row in csv.reader(open('C:\\\\Users\\\\Hassan\\\\Desktop\\\\headline.csv', encoding = \"utf-8\")):\n",
    "    reviews.append(row)\n",
    "#reviews = reviews[1:]  #This command removes the first row of the file as it only contains label(Heading)\n",
    "#(reviews[:10])"
   ]
  },
  {
   "cell_type": "code",
   "execution_count": 2,
   "metadata": {
    "colab": {
     "background_save": true,
     "base_uri": "https://localhost:8080/",
     "height": 1000,
     "output_embedded_package_id": "1cwdjJJ486LEiYMZgK7peMBMFL3LMPVGi"
    },
    "executionInfo": {
     "elapsed": 22555,
     "status": "ok",
     "timestamp": 1602343511204,
     "user": {
      "displayName": "sikandar khan",
      "photoUrl": "https://lh3.googleusercontent.com/a-/AOh14Ggk6dalLZPt_ySYiyVN7RQRbUcdiJcaDugNNoheog=s64",
      "userId": "01236351318923147467"
     },
     "user_tz": -300
    },
    "id": "tJyTtuZ3SY9Z",
    "outputId": "3f068835-2f5e-4716-aadc-87aadad4a81a"
   },
   "outputs": [],
   "source": [
    "import spacy\n",
    "from spacy.lang.ur import Urdu\n",
    "parser = Urdu()\n",
    "from spacy.lang.ur.stop_words import STOP_WORDS\n",
    "import nltk\n",
    "stopwords = set(nltk.corpus.stopwords.words('urdu'))\n",
    "#nltk.download('wordnet')\n",
    "from nltk.corpus import wordnet as wn\n",
    "import lemma\n",
    "\n",
    "def tokenize(text):\n",
    "    lda_tokens = []\n",
    "    tokens = parser(text)\n",
    "    for token in tokens:\n",
    "        if token.orth_.isspace():\n",
    "            continue\n",
    "        elif token.like_url:\n",
    "            lda_tokens.append('URL')\n",
    "        elif token.text.isdigit():\n",
    "            lda_tokens.append('NUM')\n",
    "        else:\n",
    "            lda_tokens.append(token.lower_)\n",
    "    return lda_tokens\n",
    "\n",
    "def get_lemma(word):\n",
    "    word = lemma.lemmatize(word)\n",
    "    return word\n",
    "\n",
    "final=[]     #In this list all of our pre processed data will be stored\n",
    "for line in reviews:  #Break sentence into list words\n",
    "    for words in line:\n",
    "        tokens = tokenize(words)\n",
    "        tokens = [token for token in tokens if len(token) > 3]\n",
    "        tokens = [token for token in tokens if token not in stopwords]\n",
    "        tokens = [get_lemma(token) for token in tokens]\n",
    "        final.append(tokens)\n",
    "#final[:10]"
   ]
  },
  {
   "cell_type": "code",
   "execution_count": 3,
   "metadata": {
    "colab": {
     "base_uri": "https://localhost:8080/",
     "height": 34
    },
    "executionInfo": {
     "elapsed": 6868,
     "status": "ok",
     "timestamp": 1602343516518,
     "user": {
      "displayName": "sikandar khan",
      "photoUrl": "https://lh3.googleusercontent.com/a-/AOh14Ggk6dalLZPt_ySYiyVN7RQRbUcdiJcaDugNNoheog=s64",
      "userId": "01236351318923147467"
     },
     "user_tz": -300
    },
    "id": "-0-v39W2SY9x",
    "outputId": "2f7dfed9-37c5-4201-d369-d847a2e947bc"
   },
   "outputs": [
    {
     "name": "stdout",
     "output_type": "stream",
     "text": [
      "Dictionary(49654 unique tokens: ['خلاف', 'زائد', 'ضائع', 'ضابطہ', 'لاکھ']...)\n"
     ]
    }
   ],
   "source": [
    "from gensim import corpora\n",
    "dictionary = corpora.Dictionary(final)\n",
    "print(dictionary)"
   ]
  },
  {
   "cell_type": "code",
   "execution_count": 4,
   "metadata": {
    "colab": {
     "background_save": true,
     "base_uri": "https://localhost:8080/",
     "height": 54
    },
    "executionInfo": {
     "elapsed": 1496,
     "status": "ok",
     "timestamp": 1602339267838,
     "user": {
      "displayName": "Hassan Umar",
      "photoUrl": "",
      "userId": "05592899013278125606"
     },
     "user_tz": -300
    },
    "id": "gb1Op5feSY-A"
   },
   "outputs": [],
   "source": [
    "corpus = [dictionary.doc2bow(text) for text in final]\n",
    "#print(corpus)"
   ]
  },
  {
   "cell_type": "code",
   "execution_count": 5,
   "metadata": {
    "scrolled": true
   },
   "outputs": [
    {
     "data": {
      "image/png": "[encoded data removed]",
      "text/plain": [
       "<Figure size 432x288 with 1 Axes>"
      ]
     },
     "metadata": {
      "needs_background": "light"
     },
     "output_type": "display_data"
    }
   ],
   "source": [
    "from gensim.models import CoherenceModel, LdaModel, LsiModel, HdpModel\n",
    "def compute_coherence_values(dictionary, corpus, texts, limit, start, step):\n",
    "    \"\"\"\n",
    "    Compute c_v coherence for various number of topics\n",
    "\n",
    "    Parameters:\n",
    "    ----------\n",
    "    dictionary : Gensim dictionary\n",
    "    corpus : Gensim corpus\n",
    "    texts : List of input texts\n",
    "    limit : Max num of topics\n",
    "\n",
    "    Returns:\n",
    "    -------\n",
    "    model_list : List of LDA topic models\n",
    "    coherence_values : Coherence values corresponding to the LDA model with respective number of topics\n",
    "    \"\"\"\n",
    "    coherence_values = []\n",
    "    model_list = []\n",
    "    for num_topics in range(start, limit, step):\n",
    "        model=LdaModel(corpus=corpus, id2word=dictionary, num_topics=num_topics)\n",
    "        model_list.append(model)\n",
    "        coherencemodel = CoherenceModel(model=model, texts=texts, dictionary=dictionary, coherence='c_v')\n",
    "        coherence_values.append(coherencemodel.get_coherence())\n",
    "\n",
    "    return model_list, coherence_values\n",
    "\n",
    "model_list, coherence_values = compute_coherence_values(dictionary=dictionary, corpus=corpus, texts=final, start=1, limit=10, step=1)\n",
    "# Show graph\n",
    "import matplotlib.pyplot as plt\n",
    "limit=10; start=1; step=1;\n",
    "x = range(start, limit, step)\n",
    "plt.plot(x, coherence_values)\n",
    "plt.xlabel(\"Num Topics\")\n",
    "plt.ylabel(\"Coherence score\")\n",
    "plt.legend((\"coherence_values\"), loc='best')\n",
    "plt.show()"
   ]
  },
  {
   "cell_type": "code",
   "execution_count": 6,
   "metadata": {},
   "outputs": [
    {
     "data": {
      "image/png": "[encoded data removed]",
      "text/plain": [
       "<Figure size 432x288 with 1 Axes>"
      ]
     },
     "metadata": {
      "needs_background": "light"
     },
     "output_type": "display_data"
    }
   ],
   "source": [
    "def compute_lsi_coherence_values(dictionary, corpus, texts, limit, start, step):\n",
    "    \"\"\"\n",
    "    Compute c_v coherence for various number of topics\n",
    "\n",
    "    Parameters:\n",
    "    ----------\n",
    "    dictionary : Gensim dictionary\n",
    "    corpus : Gensim corpus\n",
    "    texts : List of input texts\n",
    "    limit : Max num of topics\n",
    "\n",
    "    Returns:\n",
    "    -------\n",
    "    model_list : List of LSI topic models\n",
    "    coherence_values : Coherence values corresponding to the LSI model with respective number of topics\n",
    "    \"\"\"\n",
    "    coherence_values = []\n",
    "    model_list = []\n",
    "    for num_topics in range(start, limit, step):\n",
    "        model=LsiModel(corpus=corpus, id2word=dictionary, num_topics=num_topics)\n",
    "        model_list.append(model)\n",
    "        coherencemodel = CoherenceModel(model=model, texts=texts, dictionary=dictionary, coherence='c_v')\n",
    "        coherence_values.append(coherencemodel.get_coherence())\n",
    "\n",
    "    return model_list, coherence_values\n",
    "\n",
    "model_list, coherence_values = compute_lsi_coherence_values(dictionary=dictionary, corpus=corpus, texts=final, start=1, limit=10, step=1)\n",
    "# Show graph\n",
    "import matplotlib.pyplot as plt\n",
    "limit=10; start=1; step=1;\n",
    "x = range(start, limit, step)\n",
    "plt.plot(x, coherence_values)\n",
    "plt.xlabel(\"Num Topics\")\n",
    "plt.ylabel(\"Coherence score\")\n",
    "plt.legend((\"coherence_values\"), loc='best')\n",
    "plt.show()"
   ]
  },
  {
   "cell_type": "code",
   "execution_count": null,
   "metadata": {},
   "outputs": [],
   "source": [
    "def compute_hdp_coherence_values(dictionary, corpus, texts, limit, start, step):\n",
    "    \"\"\"\n",
    "    Compute c_v coherence for various number of topics\n",
    "\n",
    "    Parameters:\n",
    "    ----------\n",
    "    dictionary : Gensim dictionary\n",
    "    corpus : Gensim corpus\n",
    "    texts : List of input texts\n",
    "    limit : Max num of topics\n",
    "\n",
    "    Returns:\n",
    "    -------\n",
    "    model_list : List of HDP topic models\n",
    "    coherence_values : Coherence values corresponding to the HDP model with respective number of topics\n",
    "    \"\"\"\n",
    "    coherence_values = []\n",
    "    model_list = []\n",
    "    for num_topics in range(start, limit, step):\n",
    "        model=HdpModel(corpus=corpus, id2word=dictionary, num_topics=num_topics)\n",
    "        model_list.append(model)\n",
    "        coherencemodel = CoherenceModel(model=model, texts=texts, dictionary=dictionary, coherence='c_v')\n",
    "        coherence_values.append(coherencemodel.get_coherence())\n",
    "\n",
    "    return model_list, coherence_values\n",
    "\n",
    "model_list, coherence_values = compute_lsi_coherence_values(dictionary=dictionary, corpus=corpus, texts=final, start=1, limit=10, step=1)\n",
    "# Show graph\n",
    "import matplotlib.pyplot as plt\n",
    "limit=10; start=1; step=1;\n",
    "x = range(start, limit, step)\n",
    "plt.plot(x, coherence_values)\n",
    "plt.xlabel(\"Num Topics\")\n",
    "plt.ylabel(\"Coherence score\")\n",
    "plt.legend((\"coherence_values\"), loc='best')\n",
    "plt.show()"
   ]
  },
  {
   "cell_type": "code",
   "execution_count": 9,
   "metadata": {
    "colab": {
     "base_uri": "https://localhost:8080/",
     "height": 187
    },
    "executionInfo": {
     "elapsed": 3247,
     "status": "ok",
     "timestamp": 1602339273214,
     "user": {
      "displayName": "Hassan Umar",
      "photoUrl": "",
      "userId": "05592899013278125606"
     },
     "user_tz": -300
    },
    "id": "6_mgbMynSY-H",
    "outputId": "bd1b9260-fa67-44c1-da80-8b39c8179126",
    "scrolled": false
   },
   "outputs": [
    {
     "name": "stdout",
     "output_type": "stream",
     "text": [
      "Time elapsed:  24.908745288848877\n"
     ]
    },
    {
     "data": {
      "text/plain": [
       "[(0,\n",
       "  '0.017*\"سلمان\" + 0.015*\"اداکار\" + 0.014*\"پاکستان\" + 0.010*\"فنکار\" + 0.008*\"جاری\" + 0.008*\"زندگی\" + 0.007*\"کامیاب\" + 0.007*\"فیصلہ\" + 0.006*\"کرینہ\" + 0.006*\"شکار\"'),\n",
       " (1,\n",
       "  '0.024*\"فلم\" + 0.014*\"تحقیق\" + 0.011*\"انڈسٹری\" + 0.011*\"ماہرین\" + 0.011*\"بیمار\" + 0.011*\"بچ\" + 0.009*\"پاکستان\" + 0.008*\"کینسر\" + 0.008*\"علاج\" + 0.007*\"خواتین\"'),\n",
       " (2,\n",
       "  '0.023*\"بال\" + 0.017*\"افراد\" + 0.016*\"کپور\" + 0.016*\"اداکارہ\" + 0.011*\"کراچی\" + 0.010*\"ریلیز\" + 0.007*\"کترینہ\" + 0.006*\"کروڑ\" + 0.006*\"پولیس\" + 0.006*\"پاکستان\"'),\n",
       " (3,\n",
       "  '0.028*\"بھارت\" + 0.014*\"پاکستان\" + 0.013*\"کردار\" + 0.008*\"خلاف\" + 0.007*\"کورٹ\" + 0.007*\"حسین\" + 0.007*\"انتخاب\" + 0.007*\"الیکشن\" + 0.006*\"سپریم\" + 0.006*\"گرفتار\"')]"
      ]
     },
     "execution_count": 9,
     "metadata": {},
     "output_type": "execute_result"
    }
   ],
   "source": [
    "from gensim.models import CoherenceModel, LdaModel, LsiModel, HdpModel\n",
    "import time\n",
    "\n",
    "t0= time.time()\n",
    "ldamodel = LdaModel(corpus=corpus, num_topics=4, id2word=dictionary)\n",
    "t1 = time.time() - t0\n",
    "print(\"Time elapsed: \", t1)\n",
    "ldamodel.show_topics()  "
   ]
  },
  {
   "cell_type": "code",
   "execution_count": null,
   "metadata": {},
   "outputs": [],
   "source": [
    "import pyLDAvis.gensim\n",
    "pyLDAvis.enable_notebook()\n",
    "pyLDAvis.gensim.prepare(ldamodel, corpus, dictionary)"
   ]
  },
  {
   "cell_type": "code",
   "execution_count": 10,
   "metadata": {},
   "outputs": [
    {
     "name": "stdout",
     "output_type": "stream",
     "text": [
      "\n",
      "Coherence Score:  0.35086960186876104\n"
     ]
    }
   ],
   "source": [
    "# Compute Coherence Score using c_v\n",
    "coherence_model_lda = CoherenceModel(model=ldamodel, texts=final, dictionary=dictionary, coherence='c_v')\n",
    "coherence_lda = coherence_model_lda.get_coherence()\n",
    "print('\\nCoherence Score: ', coherence_lda)"
   ]
  },
  {
   "cell_type": "code",
   "execution_count": 11,
   "metadata": {},
   "outputs": [
    {
     "name": "stdout",
     "output_type": "stream",
     "text": [
      "\n",
      "Coherence Score:  -8.13922302832067\n"
     ]
    }
   ],
   "source": [
    "# Compute Coherence Score using u_mass\n",
    "coherence_model_lda = CoherenceModel(model=ldamodel, texts=final, dictionary=dictionary, coherence='u_mass')\n",
    "coherence_lda_umass = coherence_model_lda.get_coherence()\n",
    "print('\\nCoherence Score: ', coherence_lda_umass)"
   ]
  },
  {
   "cell_type": "code",
   "execution_count": 12,
   "metadata": {
    "scrolled": true
   },
   "outputs": [
    {
     "name": "stdout",
     "output_type": "stream",
     "text": [
      "Time elapsed:  14.682621955871582\n"
     ]
    },
    {
     "data": {
      "text/plain": [
       "[(0,\n",
       "  '0.931*\"پاکستان\" + 0.252*\"بھارت\" + 0.065*\"کرکٹ\" + 0.046*\"ورلڈ\" + 0.043*\"خلاف\" + 0.042*\"کیلئا\" + 0.039*\"شکست\" + 0.039*\"حکومت\" + 0.039*\"فیصلہ\" + 0.039*\"وزیراعظم\"'),\n",
       " (1,\n",
       "  '0.703*\"کراچی\" + 0.279*\"افراد\" + 0.171*\"پولیس\" + 0.170*\"گرفتار\" + 0.160*\"مارکیٹ\" + 0.159*\"سندھ\" + 0.152*\"سمیت\" + -0.139*\"پاکستان\" + 0.134*\"ہلاک\" + 0.129*\"فائرنگ\"'),\n",
       " (2,\n",
       "  '0.418*\"حکومت\" + -0.268*\"کراچی\" + 0.241*\"بھارت\" + 0.214*\"وزیراعظم\" + 0.199*\"روپا\" + 0.197*\"الیکشن\" + -0.190*\"پاکستان\" + 0.190*\"کورٹ\" + -0.188*\"افراد\" + 0.169*\"عمران\"'),\n",
       " (3,\n",
       "  '0.653*\"بھارت\" + 0.459*\"کرکٹ\" + -0.297*\"روپا\" + -0.228*\"قیمت\" + -0.203*\"پاکستان\" + -0.133*\"حکومت\" + 0.109*\"بورڈ\" + -0.103*\"سونا\" + -0.093*\"اضافہ\" + 0.088*\"ٹیسٹ\"')]"
      ]
     },
     "execution_count": 12,
     "metadata": {},
     "output_type": "execute_result"
    }
   ],
   "source": [
    "t0= time.time()\n",
    "lsimodel = LsiModel(corpus=corpus, num_topics=4, id2word=dictionary)\n",
    "t1 = time.time() - t0\n",
    "print(\"Time elapsed: \", t1)\n",
    "lsimodel.show_topics()"
   ]
  },
  {
   "cell_type": "code",
   "execution_count": 13,
   "metadata": {},
   "outputs": [
    {
     "name": "stdout",
     "output_type": "stream",
     "text": [
      "\n",
      "Coherence Score:  0.2953072449586722\n"
     ]
    }
   ],
   "source": [
    "# Compute Coherence Score using c_v\n",
    "coherence_model_lsi = CoherenceModel(model=lsimodel, texts=final, dictionary=dictionary, coherence='c_v')\n",
    "coherence_lsi = coherence_model_lsi.get_coherence()\n",
    "print('\\nCoherence Score: ', coherence_lsi)"
   ]
  },
  {
   "cell_type": "code",
   "execution_count": 14,
   "metadata": {},
   "outputs": [
    {
     "name": "stdout",
     "output_type": "stream",
     "text": [
      "\n",
      "Coherence Score:  -5.901756131080269\n"
     ]
    }
   ],
   "source": [
    "# Compute Coherence Score using u_mass\n",
    "coherence_model_lsi = CoherenceModel(model=lsimodel, texts=final, dictionary=dictionary, coherence='u_mass')\n",
    "coherence_lsi_umass = coherence_model_lsi.get_coherence()\n",
    "print('\\nCoherence Score: ', coherence_lsi_umass)"
   ]
  },
  {
   "cell_type": "code",
   "execution_count": null,
   "metadata": {},
   "outputs": [],
   "source": [
    "t0= time.time()\n",
    "hdpmodel = HdpModel(corpus=corpus, id2word=dictionary)\n",
    "t1 = time.time() - t0\n",
    "print(\"Time elapsed: \", t1)\n",
    "hdpmodel.show_topics()"
   ]
  },
  {
   "cell_type": "code",
   "execution_count": 19,
   "metadata": {},
   "outputs": [
    {
     "name": "stdout",
     "output_type": "stream",
     "text": [
      "\n",
      "Coherence Score:  0.21567520616133776\n"
     ]
    }
   ],
   "source": [
    "# Compute Coherence Score using c_v\n",
    "coherence_model_hdp = CoherenceModel(model=hdpmodel, texts=final, dictionary=dictionary, coherence='c_v')\n",
    "coherence_hdp = coherence_model_hdp.get_coherence()\n",
    "print('\\nCoherence Score: ', coherence_hdp)"
   ]
  },
  {
   "cell_type": "code",
   "execution_count": 20,
   "metadata": {},
   "outputs": [
    {
     "name": "stdout",
     "output_type": "stream",
     "text": [
      "\n",
      "Coherence Score:  -4.231879721109399\n"
     ]
    }
   ],
   "source": [
    "# Compute Coherence Score using u_mass\n",
    "coherence_model_hdp = CoherenceModel(model=hdpmodel, texts=final, dictionary=dictionary, coherence='u_mass')\n",
    "coherence_hdp_umass = coherence_model_hdp.get_coherence()\n",
    "print('\\nCoherence Score: ', coherence_hdp_umass)"
   ]
  },
  {
   "cell_type": "code",
   "execution_count": 21,
   "metadata": {},
   "outputs": [
    {
     "data": {
      "image/png": "[encoded data removed]",
      "text/plain": [
       "<Figure size 432x288 with 1 Axes>"
      ]
     },
     "metadata": {
      "needs_background": "light"
     },
     "output_type": "display_data"
    }
   ],
   "source": [
    "import numpy as np\n",
    "\n",
    "def coherence_graph(coherence,label):\n",
    "    assert len(coherence)==len(label)\n",
    "    n=len(coherence)\n",
    "    x=np.arange(n)\n",
    "    plt.bar(x,coherence,width=0.2,tick_label=label,align='center')\n",
    "    plt.xlabel('models')\n",
    "    plt.ylabel('coherence value')\n",
    "\n",
    "coherence_graph([coherence_lda,coherence_lsi,coherence_hdp],['LDA','LSI','HDP'])"
   ]
  },
  {
   "cell_type": "code",
   "execution_count": null,
   "metadata": {},
   "outputs": [],
   "source": [
    "!python -m pip install -U pyLDAvis"
   ]
  }
 ],
 "metadata": {
  "colab": {
   "name": "pre_processing.ipynb",
   "version": ""
  },
  "kernelspec": {
   "display_name": "Python 3",
   "language": "python",
   "name": "python3"
  },
  "language_info": {
   "codemirror_mode": {
    "name": "ipython",
    "version": 3
   },
   "file_extension": ".py",
   "mimetype": "text/x-python",
   "name": "python",
   "nbconvert_exporter": "python",
   "pygments_lexer": "ipython3",
   "version": "3.8.6rc1"
  }
 },
 "nbformat": 4,
 "nbformat_minor": 1
}
