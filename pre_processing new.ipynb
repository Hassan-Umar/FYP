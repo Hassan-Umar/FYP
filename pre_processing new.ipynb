{
 "cells": [
  {
   "cell_type": "code",
   "execution_count": null,
   "metadata": {},
   "outputs": [],
   "source": [
    "# jupyter notebook --NotebookApp.iopub_data_rate_limit=1.0e10"
   ]
  },
  {
   "cell_type": "code",
   "execution_count": 11,
   "metadata": {
    "colab": {
     "background_save": true,
     "base_uri": "https://localhost:8080/",
     "height": 231,
     "output_embedded_package_id": "1sJr5-rAHIWj94Fnap2rxY-H3KeMUWAx0"
    },
    "executionInfo": {
     "elapsed": 1146,
     "status": "error",
     "timestamp": 1602945248193,
     "user": {
      "displayName": "sikandar khan",
      "photoUrl": "https://lh3.googleusercontent.com/a-/AOh14Ggk6dalLZPt_ySYiyVN7RQRbUcdiJcaDugNNoheog=s64",
      "userId": "01236351318923147467"
     },
     "user_tz": -300
    },
    "id": "SxyXqixISY9K",
    "outputId": "729240cd-f2d7-4d20-9efd-b1e7b22c936f"
   },
   "outputs": [],
   "source": [
    "import csv\n",
    "\n",
    "reviews=[]\n",
    "for row in csv.reader(open('C:\\\\Users\\\\Hassan\\\\Desktop\\\\bbcurdu.csv', encoding = \"utf-8\")):\n",
    "    reviews.append(row)\n",
    "#reviews = reviews[1:]  #This command removes the first row of the file as it only contains label(Heading)\n",
    "#(reviews[:10])"
   ]
  },
  {
   "cell_type": "code",
   "execution_count": 12,
   "metadata": {
    "colab": {
     "background_save": true,
     "base_uri": "https://localhost:8080/",
     "height": 1000,
     "output_embedded_package_id": "1cwdjJJ486LEiYMZgK7peMBMFL3LMPVGi"
    },
    "executionInfo": {
     "elapsed": 22555,
     "status": "ok",
     "timestamp": 1602343511204,
     "user": {
      "displayName": "sikandar khan",
      "photoUrl": "https://lh3.googleusercontent.com/a-/AOh14Ggk6dalLZPt_ySYiyVN7RQRbUcdiJcaDugNNoheog=s64",
      "userId": "01236351318923147467"
     },
     "user_tz": -300
    },
    "id": "tJyTtuZ3SY9Z",
    "outputId": "3f068835-2f5e-4716-aadc-87aadad4a81a"
   },
   "outputs": [],
   "source": [
    "import spacy\n",
    "from spacy.lang.ur import Urdu\n",
    "parser = Urdu()\n",
    "from spacy.lang.ur.stop_words import STOP_WORDS\n",
    "import nltk\n",
    "stopwords = set(nltk.corpus.stopwords.words('urdu'))\n",
    "#nltk.download('wordnet')\n",
    "from nltk.corpus import wordnet as wn\n",
    "import lemma\n",
    "\n",
    "def tokenize(text):\n",
    "    lda_tokens = []\n",
    "    tokens = parser(text)\n",
    "    for token in tokens:\n",
    "        if token.orth_.isspace():\n",
    "            continue\n",
    "        elif token.like_url:\n",
    "            lda_tokens.append('URL')\n",
    "        elif token.text.isdigit():\n",
    "            lda_tokens.append('NUM')\n",
    "        else:\n",
    "            lda_tokens.append(token.lower_)\n",
    "    return lda_tokens\n",
    "\n",
    "def get_lemma(word):\n",
    "    word = lemma.lemmatize(word)\n",
    "    return word\n",
    "\n",
    "final=[]     #In this list all of our pre processed data will be stored\n",
    "for line in reviews:  #Break sentence into list words\n",
    "    for words in line:\n",
    "        tokens = tokenize(words)\n",
    "        tokens = [token for token in tokens if len(token) > 3]\n",
    "        tokens = [token for token in tokens if token not in stopwords]\n",
    "        tokens = [get_lemma(token) for token in tokens]\n",
    "        final.append(tokens)\n",
    "#final[:10]"
   ]
  },
  {
   "cell_type": "code",
   "execution_count": 13,
   "metadata": {
    "colab": {
     "base_uri": "https://localhost:8080/",
     "height": 34
    },
    "executionInfo": {
     "elapsed": 6868,
     "status": "ok",
     "timestamp": 1602343516518,
     "user": {
      "displayName": "sikandar khan",
      "photoUrl": "https://lh3.googleusercontent.com/a-/AOh14Ggk6dalLZPt_ySYiyVN7RQRbUcdiJcaDugNNoheog=s64",
      "userId": "01236351318923147467"
     },
     "user_tz": -300
    },
    "id": "-0-v39W2SY9x",
    "outputId": "2f7dfed9-37c5-4201-d369-d847a2e947bc"
   },
   "outputs": [
    {
     "name": "stdout",
     "output_type": "stream",
     "text": [
      "Dictionary(1388 unique tokens: ['آفرید', 'احمد', 'ارشد', 'اسٹیڈیم', 'اشرف']...)\n"
     ]
    }
   ],
   "source": [
    "from gensim import corpora\n",
    "dictionary = corpora.Dictionary(final)\n",
    "print(dictionary)"
   ]
  },
  {
   "cell_type": "code",
   "execution_count": 14,
   "metadata": {
    "colab": {
     "background_save": true,
     "base_uri": "https://localhost:8080/",
     "height": 54
    },
    "executionInfo": {
     "elapsed": 1496,
     "status": "ok",
     "timestamp": 1602339267838,
     "user": {
      "displayName": "Hassan Umar",
      "photoUrl": "",
      "userId": "05592899013278125606"
     },
     "user_tz": -300
    },
    "id": "gb1Op5feSY-A"
   },
   "outputs": [],
   "source": [
    "corpus = [dictionary.doc2bow(text) for text in final]\n",
    "#print(corpus)"
   ]
  },
  {
   "cell_type": "code",
   "execution_count": 15,
   "metadata": {
    "scrolled": true
   },
   "outputs": [
    {
     "data": {
      "image/png": "[encoded data removed]",
      "text/plain": [
       "<Figure size 432x288 with 1 Axes>"
      ]
     },
     "metadata": {
      "needs_background": "light"
     },
     "output_type": "display_data"
    }
   ],
   "source": [
    "from gensim.models import CoherenceModel, LdaModel, LsiModel, HdpModel\n",
    "def compute_coherence_values(dictionary, corpus, texts, limit, start, step):\n",
    "    \"\"\"\n",
    "    Compute c_v coherence for various number of topics\n",
    "\n",
    "    Parameters:\n",
    "    ----------\n",
    "    dictionary : Gensim dictionary\n",
    "    corpus : Gensim corpus\n",
    "    texts : List of input texts\n",
    "    limit : Max num of topics\n",
    "\n",
    "    Returns:\n",
    "    -------\n",
    "    model_list : List of LDA topic models\n",
    "    coherence_values : Coherence values corresponding to the LDA model with respective number of topics\n",
    "    \"\"\"\n",
    "    coherence_values = []\n",
    "    model_list = []\n",
    "    for num_topics in range(start, limit, step):\n",
    "        model=LdaModel(corpus=corpus, id2word=dictionary, num_topics=num_topics)\n",
    "        model_list.append(model)\n",
    "        coherencemodel = CoherenceModel(model=model, texts=texts, dictionary=dictionary, coherence='c_v')\n",
    "        coherence_values.append(coherencemodel.get_coherence())\n",
    "\n",
    "    return model_list, coherence_values\n",
    "\n",
    "model_list, coherence_values = compute_coherence_values(dictionary=dictionary, corpus=corpus, texts=final, start=1, limit=10, step=1)\n",
    "# Show graph\n",
    "import matplotlib.pyplot as plt\n",
    "limit=10; start=1; step=1;\n",
    "x = range(start, limit, step)\n",
    "plt.plot(x, coherence_values)\n",
    "plt.xlabel(\"Num Topics\")\n",
    "plt.ylabel(\"Coherence score\")\n",
    "plt.legend((\"coherence_values\"), loc='best')\n",
    "plt.show()"
   ]
  },
  {
   "cell_type": "code",
   "execution_count": 16,
   "metadata": {},
   "outputs": [
    {
     "data": {
      "image/png": "[encoded data removed]",
      "text/plain": [
       "<Figure size 432x288 with 1 Axes>"
      ]
     },
     "metadata": {
      "needs_background": "light"
     },
     "output_type": "display_data"
    }
   ],
   "source": [
    "def compute_lsi_coherence_values(dictionary, corpus, texts, limit, start, step):\n",
    "    \"\"\"\n",
    "    Compute c_v coherence for various number of topics\n",
    "\n",
    "    Parameters:\n",
    "    ----------\n",
    "    dictionary : Gensim dictionary\n",
    "    corpus : Gensim corpus\n",
    "    texts : List of input texts\n",
    "    limit : Max num of topics\n",
    "\n",
    "    Returns:\n",
    "    -------\n",
    "    model_list : List of LSI topic models\n",
    "    coherence_values : Coherence values corresponding to the LSI model with respective number of topics\n",
    "    \"\"\"\n",
    "    coherence_values = []\n",
    "    model_list = []\n",
    "    for num_topics in range(start, limit, step):\n",
    "        model=LsiModel(corpus=corpus, id2word=dictionary, num_topics=num_topics)\n",
    "        model_list.append(model)\n",
    "        coherencemodel = CoherenceModel(model=model, texts=texts, dictionary=dictionary, coherence='c_v')\n",
    "        coherence_values.append(coherencemodel.get_coherence())\n",
    "\n",
    "    return model_list, coherence_values\n",
    "\n",
    "model_list, coherence_values = compute_lsi_coherence_values(dictionary=dictionary, corpus=corpus, texts=final, start=1, limit=10, step=1)\n",
    "# Show graph\n",
    "import matplotlib.pyplot as plt\n",
    "limit=10; start=1; step=1;\n",
    "x = range(start, limit, step)\n",
    "plt.plot(x, coherence_values)\n",
    "plt.xlabel(\"Num Topics\")\n",
    "plt.ylabel(\"Coherence score\")\n",
    "plt.legend((\"coherence_values\"), loc='best')\n",
    "plt.show()"
   ]
  },
  {
   "cell_type": "code",
   "execution_count": 44,
   "metadata": {},
   "outputs": [
    {
     "name": "stderr",
     "output_type": "stream",
     "text": [
      "c:\\users\\hassan\\appdata\\local\\programs\\python\\python38\\lib\\site-packages\\ipykernel\\ipkernel.py:283: DeprecationWarning: `should_run_async` will not call `transform_cell` automatically in the future. Please pass the result to `transformed_cell` argument and any exception that happen during thetransform in `preprocessing_exc_tuple` in IPython 7.17 and above.\n",
      "  and should_run_async(code)\n"
     ]
    },
    {
     "data": {
      "image/png": "[encoded data removed]",
      "text/plain": [
       "<Figure size 432x288 with 1 Axes>"
      ]
     },
     "metadata": {
      "needs_background": "light"
     },
     "output_type": "display_data"
    }
   ],
   "source": [
    "def compute_hdp_coherence_values(dictionary, corpus, texts, limit, start, step):\n",
    "    \"\"\"\n",
    "    Compute c_v coherence for various number of topics\n",
    "\n",
    "    Parameters:\n",
    "    ----------\n",
    "    dictionary : Gensim dictionary\n",
    "    corpus : Gensim corpus\n",
    "    texts : List of input texts\n",
    "    limit : Max num of topics\n",
    "\n",
    "    Returns:\n",
    "    -------\n",
    "    model_list : List of HDP topic models\n",
    "    coherence_values : Coherence values corresponding to the HDP model with respective number of topics\n",
    "    \"\"\"\n",
    "    coherence_values = []\n",
    "    model_list = []\n",
    "    for num_topics in range(start, limit, step):\n",
    "        model=HdpModel(corpus=corpus, id2word=dictionary, num_topics=num_topics)\n",
    "        model_list.append(model)\n",
    "        coherencemodel = CoherenceModel(model=model, texts=texts, dictionary=dictionary, coherence='c_v')\n",
    "        coherence_values.append(coherencemodel.get_coherence())\n",
    "\n",
    "    return model_list, coherence_values\n",
    "\n",
    "model_list, coherence_values = compute_lsi_coherence_values(dictionary=dictionary, corpus=corpus, texts=final, start=1, limit=10, step=1)\n",
    "# Show graph\n",
    "import matplotlib.pyplot as plt\n",
    "limit=10; start=1; step=1;\n",
    "x = range(start, limit, step)\n",
    "plt.plot(x, coherence_values)\n",
    "plt.xlabel(\"Num Topics\")\n",
    "plt.ylabel(\"Coherence score\")\n",
    "plt.legend((\"coherence_values\"), loc='best')\n",
    "plt.show()"
   ]
  },
  {
   "cell_type": "code",
   "execution_count": 43,
   "metadata": {
    "colab": {
     "base_uri": "https://localhost:8080/",
     "height": 187
    },
    "executionInfo": {
     "elapsed": 3247,
     "status": "ok",
     "timestamp": 1602339273214,
     "user": {
      "displayName": "Hassan Umar",
      "photoUrl": "",
      "userId": "05592899013278125606"
     },
     "user_tz": -300
    },
    "id": "6_mgbMynSY-H",
    "outputId": "bd1b9260-fa67-44c1-da80-8b39c8179126",
    "scrolled": false
   },
   "outputs": [
    {
     "name": "stdout",
     "output_type": "stream",
     "text": [
      "Time elapsed:  0.07697844505310059\n"
     ]
    },
    {
     "name": "stderr",
     "output_type": "stream",
     "text": [
      "c:\\users\\hassan\\appdata\\local\\programs\\python\\python38\\lib\\site-packages\\ipykernel\\ipkernel.py:283: DeprecationWarning: `should_run_async` will not call `transform_cell` automatically in the future. Please pass the result to `transformed_cell` argument and any exception that happen during thetransform in `preprocessing_exc_tuple` in IPython 7.17 and above.\n",
      "  and should_run_async(code)\n"
     ]
    },
    {
     "data": {
      "text/plain": [
       "[(0,\n",
       "  '0.008*\"پاکستان\" + 0.006*\"ڈراما\" + 0.005*\"میچز\" + 0.005*\"کراچی\" + 0.005*\"آپشن\" + 0.004*\"مرحلا\" + 0.004*\"مطابق\" + 0.004*\"کارکردگی\" + 0.004*\"کپتان\" + 0.003*\"کردار\"'),\n",
       " (1,\n",
       "  '0.009*\"پاکستان\" + 0.009*\"کردار\" + 0.009*\"ڈراما\" + 0.005*\"بھارت\" + 0.004*\"مرحلا\" + 0.004*\"اداکار\" + 0.004*\"زلمی\" + 0.004*\"کھلاڑی\" + 0.004*\"کارکردگی\" + 0.004*\"پشاور\"'),\n",
       " (2,\n",
       "  '0.005*\"تیار\" + 0.004*\"جاری\" + 0.003*\"سلطانز\" + 0.003*\"اسٹیڈیم\" + 0.003*\"آزمائش\" + 0.003*\"ڈسپلے\" + 0.003*\"رفتار\" + 0.003*\"ضرورت\" + 0.003*\"کنگز\" + 0.003*\"شامل\"'),\n",
       " (3,\n",
       "  '0.006*\"کراچی\" + 0.006*\"کھلاڑی\" + 0.005*\"پولیس\" + 0.005*\"میچز\" + 0.004*\"اسٹیڈیم\" + 0.004*\"شامل\" + 0.004*\"اسٹوریج\" + 0.004*\"ٹیم\" + 0.004*\"لاہور\" + 0.004*\"مطابق\"')]"
      ]
     },
     "execution_count": 43,
     "metadata": {},
     "output_type": "execute_result"
    }
   ],
   "source": [
    "from gensim.models import CoherenceModel, LdaModel, LsiModel, HdpModel\n",
    "import time\n",
    "\n",
    "t0= time.time()\n",
    "ldamodel = LdaModel(corpus=corpus, num_topics=4, id2word=dictionary)\n",
    "t1 = time.time() - t0\n",
    "print(\"Time elapsed: \", t1)\n",
    "ldamodel.show_topics()  "
   ]
  },
  {
   "cell_type": "code",
   "execution_count": null,
   "metadata": {},
   "outputs": [],
   "source": [
    "import pyLDAvis.gensim\n",
    "pyLDAvis.enable_notebook()\n",
    "pyLDAvis.gensim.prepare(ldamodel, corpus, dictionary)"
   ]
  },
  {
   "cell_type": "code",
   "execution_count": 35,
   "metadata": {},
   "outputs": [
    {
     "name": "stderr",
     "output_type": "stream",
     "text": [
      "c:\\users\\hassan\\appdata\\local\\programs\\python\\python38\\lib\\site-packages\\ipykernel\\ipkernel.py:283: DeprecationWarning: `should_run_async` will not call `transform_cell` automatically in the future. Please pass the result to `transformed_cell` argument and any exception that happen during thetransform in `preprocessing_exc_tuple` in IPython 7.17 and above.\n",
      "  and should_run_async(code)\n"
     ]
    },
    {
     "name": "stdout",
     "output_type": "stream",
     "text": [
      "\n",
      "Coherence Score:  0.37791920114289623\n"
     ]
    }
   ],
   "source": [
    "# Compute Coherence Score using c_v\n",
    "coherence_model_lda = CoherenceModel(model=ldamodel, texts=final, dictionary=dictionary, coherence='c_v')\n",
    "coherence_lda = coherence_model_lda.get_coherence()\n",
    "print('\\nCoherence Score: ', coherence_lda)"
   ]
  },
  {
   "cell_type": "code",
   "execution_count": 36,
   "metadata": {},
   "outputs": [
    {
     "name": "stdout",
     "output_type": "stream",
     "text": [
      "\n",
      "Coherence Score:  -8.932466925611632\n"
     ]
    },
    {
     "name": "stderr",
     "output_type": "stream",
     "text": [
      "c:\\users\\hassan\\appdata\\local\\programs\\python\\python38\\lib\\site-packages\\ipykernel\\ipkernel.py:283: DeprecationWarning: `should_run_async` will not call `transform_cell` automatically in the future. Please pass the result to `transformed_cell` argument and any exception that happen during thetransform in `preprocessing_exc_tuple` in IPython 7.17 and above.\n",
      "  and should_run_async(code)\n"
     ]
    }
   ],
   "source": [
    "# Compute Coherence Score using u_mass\n",
    "coherence_model_lda = CoherenceModel(model=ldamodel, texts=final, dictionary=dictionary, coherence='u_mass')\n",
    "coherence_lda_umass = coherence_model_lda.get_coherence()\n",
    "print('\\nCoherence Score: ', coherence_lda_umass)"
   ]
  },
  {
   "cell_type": "code",
   "execution_count": 20,
   "metadata": {
    "scrolled": true
   },
   "outputs": [
    {
     "name": "stdout",
     "output_type": "stream",
     "text": [
      "Time elapsed:  0.08809900283813477\n"
     ]
    },
    {
     "data": {
      "text/plain": [
       "[(0,\n",
       "  '0.213*\"کھلاڑی\" + 0.182*\"زلمی\" + 0.177*\"قلندرز\" + 0.168*\"میچز\" + 0.163*\"کارکردگی\" + 0.162*\"کپتان\" + 0.161*\"اسٹیڈیم\" + 0.161*\"پشاور\" + 0.159*\"کراچی\" + 0.139*\"سلطانز\"'),\n",
       " (1,\n",
       "  '-0.268*\"ضرورت\" + -0.248*\"انڈسٹری\" + -0.214*\"مواد\" + -0.177*\"اداکار\" + -0.168*\"بھارت\" + -0.158*\"حکومت\" + -0.156*\"پاکستان\" + -0.154*\"فارم\" + -0.154*\"پلیٹ\" + -0.149*\"شوبز\"'),\n",
       " (2,\n",
       "  '0.168*\"ضرور\" + 0.158*\"تیار\" + -0.150*\"جیتنے\" + -0.147*\"موقع\" + 0.139*\"بھرپور\" + 0.127*\"اچھ\" + 0.124*\"مداح\" + -0.109*\"آفریدی\" + 0.108*\"کھلاڑی\" + 0.107*\"میچز\"'),\n",
       " (3,\n",
       "  '0.384*\"پاکستان\" + 0.290*\"ڈراما\" + 0.224*\"کردار\" + 0.145*\"مرحلا\" + 0.137*\"کرکٹر\" + 0.133*\"کارکردگی\" + 0.132*\"کرکٹ\" + 0.129*\"بھارت\" + 0.128*\"بولنگ\" + 0.106*\"لباس\"')]"
      ]
     },
     "execution_count": 20,
     "metadata": {},
     "output_type": "execute_result"
    }
   ],
   "source": [
    "t0= time.time()\n",
    "lsimodel = LsiModel(corpus=corpus, num_topics=4, id2word=dictionary)\n",
    "t1 = time.time() - t0\n",
    "print(\"Time elapsed: \", t1)\n",
    "lsimodel.show_topics()"
   ]
  },
  {
   "cell_type": "code",
   "execution_count": 37,
   "metadata": {},
   "outputs": [
    {
     "name": "stderr",
     "output_type": "stream",
     "text": [
      "c:\\users\\hassan\\appdata\\local\\programs\\python\\python38\\lib\\site-packages\\ipykernel\\ipkernel.py:283: DeprecationWarning: `should_run_async` will not call `transform_cell` automatically in the future. Please pass the result to `transformed_cell` argument and any exception that happen during thetransform in `preprocessing_exc_tuple` in IPython 7.17 and above.\n",
      "  and should_run_async(code)\n"
     ]
    },
    {
     "name": "stdout",
     "output_type": "stream",
     "text": [
      "\n",
      "Coherence Score:  0.5679099217808\n"
     ]
    }
   ],
   "source": [
    "# Compute Coherence Score using c_v\n",
    "coherence_model_lsi = CoherenceModel(model=lsimodel, texts=final, dictionary=dictionary, coherence='c_v')\n",
    "coherence_lsi = coherence_model_lsi.get_coherence()\n",
    "print('\\nCoherence Score: ', coherence_lsi)"
   ]
  },
  {
   "cell_type": "code",
   "execution_count": 38,
   "metadata": {},
   "outputs": [
    {
     "name": "stdout",
     "output_type": "stream",
     "text": [
      "\n",
      "Coherence Score:  -3.5986331273992964\n"
     ]
    },
    {
     "name": "stderr",
     "output_type": "stream",
     "text": [
      "c:\\users\\hassan\\appdata\\local\\programs\\python\\python38\\lib\\site-packages\\ipykernel\\ipkernel.py:283: DeprecationWarning: `should_run_async` will not call `transform_cell` automatically in the future. Please pass the result to `transformed_cell` argument and any exception that happen during thetransform in `preprocessing_exc_tuple` in IPython 7.17 and above.\n",
      "  and should_run_async(code)\n"
     ]
    }
   ],
   "source": [
    "# Compute Coherence Score using u_mass\n",
    "coherence_model_lsi = CoherenceModel(model=lsimodel, texts=final, dictionary=dictionary, coherence='u_mass')\n",
    "coherence_lsi_umass = coherence_model_lsi.get_coherence()\n",
    "print('\\nCoherence Score: ', coherence_lsi_umass)"
   ]
  },
  {
   "cell_type": "code",
   "execution_count": 27,
   "metadata": {},
   "outputs": [
    {
     "name": "stdout",
     "output_type": "stream",
     "text": [
      "Time elapsed:  0.08809900283813477\n"
     ]
    },
    {
     "name": "stderr",
     "output_type": "stream",
     "text": [
      "c:\\users\\hassan\\appdata\\local\\programs\\python\\python38\\lib\\site-packages\\ipykernel\\ipkernel.py:283: DeprecationWarning: `should_run_async` will not call `transform_cell` automatically in the future. Please pass the result to `transformed_cell` argument and any exception that happen during thetransform in `preprocessing_exc_tuple` in IPython 7.17 and above.\n",
      "  and should_run_async(code)\n"
     ]
    },
    {
     "data": {
      "text/plain": [
       "[(0,\n",
       "  '0.005*اداکار + 0.005*شکای + 0.005*ہارنا + 0.004*تیار + 0.004*پاکستان + 0.004*جیتنے + 0.004*غلطی + 0.004*بھارت + 0.004*آئی + 0.004*انڈسٹری + 0.003*ضرورت + 0.003*پہننا + 0.003*یونٹ + 0.003*ازاں + 0.003*صحیح + 0.003*مواد + 0.003*سیریل + 0.003*8فتوح + 0.003*معلوم + 0.003*چاول'),\n",
       " (1,\n",
       "  '0.005*انکلوژرز + 0.004*کارکردگی + 0.004*کپتان + 0.004*سمجھت + 0.004*موقع + 0.004*8فتوح + 0.004*ٹائٹل + 0.003*مفید + 0.003*مشہور + 0.003*ہیں۔کراچ + 0.003*ٹیبل + 0.003*باصلاحیت + 0.003*کوالیفائر + 0.003*زلمی + 0.003*لہذا + 0.003*ہدای + 0.003*وقفا + 0.003*اعلیٰ + 0.003*ایمبولینس + 0.003*آفریدی'),\n",
       " (2,\n",
       "  '0.005*کیریبیئن + 0.004*زلمی + 0.004*برتھ + 0.004*حریف + 0.004*یکسپریس + 0.004*کھلاڑی + 0.004*8کیچز + 0.004*خدشات + 0.003*روبی + 0.003*ثابت + 0.003*میچز + 0.003*جاننے + 0.003*ریاض + 0.003*تیار + 0.003*کہاکہ + 0.003*سرفہرست + 0.003*دکھائ + 0.003*لی۔کیون + 0.003*کیا،اس + 0.003*لاہور'),\n",
       " (3,\n",
       "  '0.005*انتقال + 0.004*میچز + 0.004*متعلقہ + 0.004*ڈاکٹر + 0.004*کیمیائی + 0.004*فیصل + 0.004*کھلاڑی + 0.004*والد + 0.003*سائنسداں + 0.003*اسپتال + 0.003*کیے،سہیل + 0.003*انصاف + 0.003*دیا۔گزشتہ + 0.003*بنیں۔’’فنٹاسٹک + 0.003*بچانا + 0.003*قرار + 0.003*باعث + 0.003*جوئے + 0.003*طویل + 0.003*ہوٹل'),\n",
       " (4,\n",
       "  '0.005*زبردست + 0.004*تفصیل + 0.004*پشاور + 0.004*انٹرنیشنل + 0.004*راجہ + 0.004*اسپیشل + 0.004*توانائ + 0.003*دھوکر + 0.003*تبدیل + 0.003*پھوگ + 0.003*سہنے + 0.003*دنیا + 0.003*پریکٹس + 0.003*ہمیشہ + 0.003*اسکورر + 0.003*5میچز + 0.003*حصوں + 0.003*خالی + 0.003*جھوٹ + 0.003*ہاتھ'),\n",
       " (5,\n",
       "  '0.005*پاکستان + 0.005*اسٹاف + 0.004*خواص + 0.004*ترین + 0.004*مائیکرو + 0.004*ہتکِ + 0.004*پروسیسر + 0.004*آگیا + 0.004*جاچکی + 0.004*محنت + 0.003*سیکیور + 0.003*ڈائیرور + 0.003*بنائ + 0.003*کیریئر + 0.003*تاہم + 0.003*کیون + 0.003*رفتار + 0.003*چیمپئن + 0.003*ڈیلپورٹ + 0.003*معالجا'),\n",
       " (6,\n",
       "  '0.005*دیکھا + 0.005*ہیں،لاہور + 0.005*میچز + 0.004*سمندر + 0.004*گڑھا + 0.004*پڑھایا + 0.004*زرعی + 0.004*درپیش + 0.003*ٹرمپ + 0.003*ہوئی،اسپیشل + 0.003*ٹرافی + 0.003*خالی + 0.003*ہوگا۔اس + 0.003*ٹوئٹ + 0.003*تنویر + 0.003*نفری + 0.003*آفریدی + 0.003*مستعد + 0.003*انٹارکٹیکا + 0.003*طوفان'),\n",
       " (7,\n",
       "  '0.005*فالو + 0.005*عرصہ + 0.005*پاکستان + 0.005*بہترین + 0.004*جیت + 0.004*ادویہ + 0.004*کلومیٹر + 0.004*حکومت + 0.004*وینیو + 0.004*ہے۔‘یہ + 0.004*کمب + 0.004*ڈراما + 0.004*بلاگ + 0.004*تم‘‘کارٹون + 0.003*اداکار + 0.003*لباس + 0.003*وقفہ + 0.003*شاہین + 0.003*لہذا + 0.003*نامور'),\n",
       " (8,\n",
       "  '0.005*پروف + 0.005*پولیس + 0.005*کراچی + 0.004*شعبہ + 0.004*کمنٹیٹرز + 0.004*اسٹیڈیم + 0.004*ردرفورڈ + 0.004*کھلاڑی + 0.004*گھلا + 0.003*سمیت + 0.003*بالنگ + 0.003*انجن + 0.003*تیمور + 0.003*خبر + 0.003*کمب + 0.003*جاری + 0.003*اسکرین + 0.003*شرکت + 0.003*ہدایت + 0.003*لاہور'),\n",
       " (9,\n",
       "  '0.005*بیسٹ + 0.004*ہیر + 0.004*زائد + 0.004*سیریز + 0.004*نمبر + 0.004*ڈومیسٹک + 0.004*ثقافت + 0.004*فلم + 0.004*خامرہ + 0.004*سیٹنگ + 0.004*بتایا + 0.004*چین + 0.003*گے۔فنٹاسٹک + 0.003*چاہ + 0.003*عزیز + 0.003*معامل + 0.003*اخترنا + 0.003*اہلیہ + 0.003*تماشائ + 0.003*سیکور'),\n",
       " (10,\n",
       "  '0.004*کپتان + 0.004*بینک + 0.004*کوویڈ + 0.004*سمجھ + 0.004*وسیم + 0.004*پرفارمنس + 0.004*دنیا + 0.004*انھ + 0.003*بتایا + 0.003*پوٹر + 0.003*انسٹی + 0.003*چاہتا + 0.003*بائٹس + 0.003*افتخار + 0.003*کرکے + 0.003*گان + 0.003*ایلپس + 0.003*امید + 0.003*ثابت + 0.003*8کیچز'),\n",
       " (11,\n",
       "  '0.006*لڑکی + 0.006*لیے،وکٹ + 0.004*گفتگوکرتا + 0.004*ہونےوالا + 0.004*سیٹلائٹ + 0.004*اضافہ + 0.003*جارہا + 0.003*بستر + 0.003*دیوار + 0.003*ہیں،ان + 0.003*گا۔چند + 0.003*ڈالیں۔ایک + 0.003*بارا + 0.003*واٹس + 0.003*تقریب + 0.003*چلتے + 0.003*پروڈیوسرز + 0.003*ثانیہ + 0.003*مواد + 0.003*دعویٰ'),\n",
       " (12,\n",
       "  '0.006*دید + 0.005*کوالیفائر + 0.005*اننگز + 0.004*جائزہ + 0.004*کھیلا + 0.004*پُرامید + 0.004*جوائن + 0.004*4،4وکٹ + 0.004*حیدر + 0.004*ریاض + 0.004*ماضی + 0.003*قوائد + 0.003*میڈیا + 0.003*آسٹریائی + 0.003*موضوع + 0.003*اعظم + 0.003*زکربرگ + 0.003*انڈیز + 0.003*لاہور + 0.003*کروڑ'),\n",
       " (13,\n",
       "  '0.005*عامر + 0.005*3غیرملک + 0.005*گے۔فنٹاسٹک + 0.005*بلاگ + 0.005*اسٹوری‘‘دکھائ + 0.005*رائیلی + 0.004*24گیند + 0.004*ورکس + 0.004*لگایا + 0.004*متعلق + 0.004*کیمراز + 0.004*اہلیہ + 0.004*ٹینس + 0.004*ابتدا + 0.004*گراؤنڈ + 0.004*گھومتی + 0.004*انتہائ + 0.003*ہوگئا + 0.003*اگست + 0.003*ڈوپنگ'),\n",
       " (14,\n",
       "  '0.006*کمان + 0.005*ہیں،ہوم + 0.004*کیخلاف + 0.004*کریں،موجودہ + 0.004*کرسکتا + 0.004*بیان + 0.004*صابر + 0.004*انتقال + 0.004*پیکنگ + 0.004*بیوی + 0.004*سمیت + 0.004*آل + 0.004*ابتدا + 0.004*پیچھا + 0.003*آلٹراموشن + 0.003*5لاکھ + 0.003*مرحلا + 0.003*فوری + 0.003*شکار + 0.003*ہیں۔پشاور'),\n",
       " (15,\n",
       "  '0.005*سرور + 0.005*اوورز + 0.004*کرکٹر + 0.004*پیکیج + 0.004*قبول + 0.004*انتخاب + 0.004*متاثر + 0.004*ڈیانا + 0.004*ایڈوانسڈ + 0.004*بنائ + 0.004*تُرپ + 0.004*ٹریفک + 0.004*ہے۔ون + 0.003*چلتا + 0.003*روکا + 0.003*کریں،موجودہ + 0.003*معالجا + 0.003*کہیں‘‘کا + 0.003*کرکے + 0.003*ڈیلپورٹ'),\n",
       " (16,\n",
       "  '0.006*افزائی + 0.006*مائیکرو + 0.006*سمجھ + 0.005*آسان + 0.004*آسٹریائی + 0.004*شرجیل + 0.004*توکر + 0.004*پڑجاتا + 0.004*زاویوں + 0.004*ماضی + 0.004*تعاون + 0.003*ابتدا + 0.003*انھ + 0.003*حسنین + 0.003*لین284 + 0.003*سےپہلا + 0.003*حتمی + 0.003*بنائ + 0.003*چھڑنا + 0.003*پْرکشش'),\n",
       " (17,\n",
       "  '0.005*اٹھایا + 0.005*خواص + 0.005*ڈسپلے + 0.004*وینیو + 0.004*بتایا + 0.004*انٹرنیٹ + 0.004*ادارہ + 0.004*جلن‘‘میں + 0.004*ہولوگرافک + 0.003*ماہرین + 0.003*تعطل + 0.003*قوم + 0.003*اقساط + 0.003*درست + 0.003*جارہا + 0.003*قائم + 0.003*سیکور + 0.003*ریپڈ + 0.003*نشست + 0.003*ممکن'),\n",
       " (18,\n",
       "  '0.004*پروڈکشن + 0.004*لگاتا + 0.004*مارچ + 0.004*لی۔کیون + 0.004*جارہے + 0.004*پرائیویسی + 0.004*ادائیگ + 0.004*آواز + 0.004*ازخود + 0.003*ہیں،امید + 0.003*سمجھ + 0.003*قیادت + 0.003*کلوسس + 0.003*کرکٹرز + 0.003*ہیلز + 0.003*گوگل + 0.003*ہمیں + 0.003*لینا + 0.003*سینئر + 0.003*عدسا'),\n",
       " (19,\n",
       "  '0.005*سرفہرست + 0.005*شخصیت + 0.005*لیجنڈر + 0.004*نامی + 0.004*پینافلیکس + 0.004*انداز + 0.004*تقریب + 0.004*حالات + 0.004*لاہور + 0.003*ہیں۔کراچ + 0.003*گھومتی + 0.003*سیریز’’چڑیلز + 0.003*بھارت + 0.003*ریلیز + 0.003*نوجوان + 0.003*مقبول + 0.003*آزمائش + 0.003*جاننے + 0.003*نافذ + 0.003*برقی')]"
      ]
     },
     "execution_count": 27,
     "metadata": {},
     "output_type": "execute_result"
    }
   ],
   "source": [
    "t0= time.time()\n",
    "hdpmodel = HdpModel(corpus=corpus, id2word=dictionary)\n",
    "print(\"Time elapsed: \", t1)\n",
    "hdpmodel.show_topics()"
   ]
  },
  {
   "cell_type": "code",
   "execution_count": 39,
   "metadata": {},
   "outputs": [
    {
     "name": "stderr",
     "output_type": "stream",
     "text": [
      "c:\\users\\hassan\\appdata\\local\\programs\\python\\python38\\lib\\site-packages\\ipykernel\\ipkernel.py:283: DeprecationWarning: `should_run_async` will not call `transform_cell` automatically in the future. Please pass the result to `transformed_cell` argument and any exception that happen during thetransform in `preprocessing_exc_tuple` in IPython 7.17 and above.\n",
      "  and should_run_async(code)\n"
     ]
    },
    {
     "name": "stdout",
     "output_type": "stream",
     "text": [
      "\n",
      "Coherence Score:  0.7195142682825402\n"
     ]
    }
   ],
   "source": [
    "# Compute Coherence Score using c_v\n",
    "coherence_model_hdp = CoherenceModel(model=hdpmodel, texts=final, dictionary=dictionary, coherence='c_v')\n",
    "coherence_hdp = coherence_model_hdp.get_coherence()\n",
    "print('\\nCoherence Score: ', coherence_hdp)"
   ]
  },
  {
   "cell_type": "code",
   "execution_count": 40,
   "metadata": {},
   "outputs": [
    {
     "name": "stdout",
     "output_type": "stream",
     "text": [
      "\n",
      "Coherence Score:  -21.800464013235057\n"
     ]
    },
    {
     "name": "stderr",
     "output_type": "stream",
     "text": [
      "c:\\users\\hassan\\appdata\\local\\programs\\python\\python38\\lib\\site-packages\\ipykernel\\ipkernel.py:283: DeprecationWarning: `should_run_async` will not call `transform_cell` automatically in the future. Please pass the result to `transformed_cell` argument and any exception that happen during thetransform in `preprocessing_exc_tuple` in IPython 7.17 and above.\n",
      "  and should_run_async(code)\n"
     ]
    }
   ],
   "source": [
    "# Compute Coherence Score using u_mass\n",
    "coherence_model_hdp = CoherenceModel(model=hdpmodel, texts=final, dictionary=dictionary, coherence='u_mass')\n",
    "coherence_hdp_umass = coherence_model_hdp.get_coherence()\n",
    "print('\\nCoherence Score: ', coherence_hdp_umass)"
   ]
  },
  {
   "cell_type": "code",
   "execution_count": 41,
   "metadata": {},
   "outputs": [
    {
     "name": "stderr",
     "output_type": "stream",
     "text": [
      "c:\\users\\hassan\\appdata\\local\\programs\\python\\python38\\lib\\site-packages\\ipykernel\\ipkernel.py:283: DeprecationWarning: `should_run_async` will not call `transform_cell` automatically in the future. Please pass the result to `transformed_cell` argument and any exception that happen during thetransform in `preprocessing_exc_tuple` in IPython 7.17 and above.\n",
      "  and should_run_async(code)\n"
     ]
    },
    {
     "data": {
      "image/png": "[encoded data removed]",
      "text/plain": [
       "<Figure size 432x288 with 1 Axes>"
      ]
     },
     "metadata": {
      "needs_background": "light"
     },
     "output_type": "display_data"
    }
   ],
   "source": [
    "import numpy as np\n",
    "\n",
    "def coherence_graph(coherence,label):\n",
    "    assert len(coherence)==len(label)\n",
    "    n=len(coherence)\n",
    "    x=np.arange(n)\n",
    "    plt.bar(x,coherence,width=0.2,tick_label=label,align='center')\n",
    "    plt.xlabel('models')\n",
    "    plt.ylabel('coherence value')\n",
    "\n",
    "coherence_graph([coherence_lda,coherence_lsi,coherence_hdp],['LDA','LSI','HDP'])"
   ]
  },
  {
   "cell_type": "code",
   "execution_count": null,
   "metadata": {},
   "outputs": [],
   "source": [
    "!python -m pip install -U pyLDAvis"
   ]
  }
 ],
 "metadata": {
  "colab": {
   "name": "pre_processing.ipynb",
   "version": ""
  },
  "kernelspec": {
   "display_name": "Python 3",
   "language": "python",
   "name": "python3"
  },
  "language_info": {
   "codemirror_mode": {
    "name": "ipython",
    "version": 3
   },
   "file_extension": ".py",
   "mimetype": "text/x-python",
   "name": "python",
   "nbconvert_exporter": "python",
   "pygments_lexer": "ipython3",
   "version": "3.8.6rc1"
  }
 },
 "nbformat": 4,
 "nbformat_minor": 1
}
