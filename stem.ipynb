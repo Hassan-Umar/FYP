{
 "cells": [
  {
   "cell_type": "code",
   "execution_count": 1,
   "metadata": {},
   "outputs": [],
   "source": [
    "def lemmatize(word):\n",
    "    return applyrule(word)"
   ]
  },
  {
   "cell_type": "code",
   "execution_count": 2,
   "metadata": {},
   "outputs": [],
   "source": [
    "def applyrule(word):\n",
    "    word=word.replace(\" \", \"\")\n",
    "    if word[-1:]=='ی':\n",
    "        word=rule1(word)\n",
    "        word=lemmatize(word)\n",
    "    elif word[-2:]=='اں':\n",
    "        word=rule2(word)\n",
    "        word=lemmatize(word)\n",
    "    elif word[-2:]=='وں':\n",
    "        word=rule2(word)\n",
    "        word=lemmatize(word)\n",
    "    elif word[-2:]=='يں':\n",
    "        word=rule2(word)\n",
    "        word=lemmatize(word)\n",
    "    elif word[-2:]=='ات':\n",
    "        word=rule2(word)\n",
    "        word=lemmatize(word)\n",
    "    elif word[-1:]=='ے':\n",
    "        word=rule6(word)\n",
    "        word=lemmatize(word)\n",
    "    elif word[-5:]=='انگیز':\n",
    "        word=rule5(word)\n",
    "        word=lemmatize(word)\n",
    "    elif word[-4:]=='آمیز':\n",
    "        word=rule4(word)\n",
    "        word=lemmatize(word)\n",
    "    elif word[-3:]=='آرا':\n",
    "        word=rule3(word)\n",
    "        word=lemmatize(word)\n",
    "    elif word[-5:]=='اندیش':\n",
    "        word=rule5(word)\n",
    "        word=lemmatize(word)\n",
    "    elif word[-3:]=='آور':\n",
    "        word=rule3(word)\n",
    "        word=lemmatize(word)\n",
    "    elif word[-3:]=='باز':\n",
    "        word=rule3(word)\n",
    "        word=lemmatize(word)\n",
    "    elif word[-5:]=='بردار':\n",
    "        word=rule5(word)\n",
    "        word=lemmatize(word)\n",
    "    elif word[-2:]=='پن':\n",
    "        word=rule2(word)\n",
    "        word=lemmatize(word)\n",
    "    elif word[-4:]=='پرست':\n",
    "        word=rule4(word)\n",
    "        word=lemmatize(word)\n",
    "    elif word[-4:]=='خواہ':\n",
    "        word=rule4(word)\n",
    "        word=lemmatize(word)\n",
    "    elif word[-3:]=='خور':\n",
    "        word=rule3(word)\n",
    "        word=lemmatize(word)\n",
    "    elif word[-4:]=='خانہ':\n",
    "        word=rule4(word)\n",
    "        word=lemmatize(word)\n",
    "    elif word[-3:]=='دار':\n",
    "        word=rule3(word)\n",
    "        word=lemmatize(word)\n",
    "    elif word[-3:]=='دان':\n",
    "        word=rule3(word)\n",
    "        word=lemmatize(word)\n",
    "    elif word[-3:]=='زدہ':\n",
    "        word=rule3(word)\n",
    "        word=lemmatize(word)\n",
    "    elif word[-3:]=='ساز':\n",
    "        word=rule3(word)\n",
    "        word=lemmatize(word)\n",
    "    elif word[-4:]=='فروش':\n",
    "        word=rule4(word)\n",
    "        word=lemmatize(word)\n",
    "    elif word[-3:]=='کار':\n",
    "        word=rule4(word)\n",
    "        word=lemmatize(word)\n",
    "    elif word[-3:]=='گار':\n",
    "        word=rule3(word)\n",
    "        word=lemmatize(word)\n",
    "    elif word[-2:]=='گر':\n",
    "        word=rule2(word)\n",
    "        word=lemmatize(word)\n",
    "    elif word[-3:]=='گین':\n",
    "        word=rule3(word)\n",
    "        word=lemmatize(word)\n",
    "    elif word[-3:]=='گاہ':\n",
    "        word=rule3(word)\n",
    "        word=lemmatize(word)\n",
    "    elif word[-3:]=='مند':\n",
    "        word=rule3(word)\n",
    "        word=lemmatize(word)\n",
    "    elif word[-3:]=='ناک':\n",
    "        word=rule3(word)\n",
    "        word=lemmatize(word)\n",
    "    elif word[-3:]=='یلا':\n",
    "        word=rule3(word)\n",
    "        word=lemmatize(word)\n",
    "    elif word[-3:]=='یاب':\n",
    "        word=rule3(word)\n",
    "        word=lemmatize(word)\n",
    "    elif word[:2]=='بے':\n",
    "        word=rule7(word)\n",
    "        word=lemmatize(word)\n",
    "    elif word[:3]=='اہل':\n",
    "        word=rule8(word)\n",
    "        word=lemmatize(word)\n",
    "    elif word[:2]=='بد':\n",
    "        word=rule7(word)\n",
    "        word=lemmatize(word)\n",
    "    elif word[:2]=='پر':\n",
    "        word=rule7(word)\n",
    "        word=lemmatize(word)\n",
    "    elif word[:3]=='خوش':\n",
    "        word=rule8(word)\n",
    "        word=lemmatize(word)\n",
    "    elif word[:3]=='خود':\n",
    "        word=rule8(word)\n",
    "        word=lemmatize(word)\n",
    "    elif word[:3]=='غیر':\n",
    "        word=rule8(word)\n",
    "        word=lemmatize(word)\n",
    "    elif word[:2]=='کم':\n",
    "        word=rule7(word)\n",
    "        word=lemmatize(word)\n",
    "    elif word[:2]=='لا':\n",
    "        word=rule7(word)\n",
    "        word=lemmatize(word)\n",
    "    elif word[:2]=='نا':\n",
    "        word=rule7(word)\n",
    "        word=lemmatize(word)\n",
    "    elif word[:2]=='نو':\n",
    "        word=rule7(word)\n",
    "        word=lemmatize(word)\n",
    "    elif word[:2]=='ہم':\n",
    "        word=rule7(word)\n",
    "        word=lemmatize(word)\n",
    "    elif word[:2]=='یک':\n",
    "        word=rule7(word)\n",
    "        word=lemmatize(word)\n",
    "    return word"
   ]
  },
  {
   "cell_type": "code",
   "execution_count": 3,
   "metadata": {},
   "outputs": [],
   "source": [
    "def rule1(word):\n",
    "    lemma=word[:-1]\n",
    "    return lemma"
   ]
  },
  {
   "cell_type": "code",
   "execution_count": 4,
   "metadata": {},
   "outputs": [],
   "source": [
    "def rule2(word):\n",
    "    lemma=word[:-2]\n",
    "    return lemma"
   ]
  },
  {
   "cell_type": "code",
   "execution_count": 5,
   "metadata": {},
   "outputs": [],
   "source": [
    "def rule3(word):\n",
    "    lemma=word[:-3]\n",
    "    return lemma"
   ]
  },
  {
   "cell_type": "code",
   "execution_count": 6,
   "metadata": {},
   "outputs": [],
   "source": [
    "def rule4(word):\n",
    "    lemma=word[:-4]\n",
    "    return lemma"
   ]
  },
  {
   "cell_type": "code",
   "execution_count": 7,
   "metadata": {},
   "outputs": [],
   "source": [
    "def rule5(word):\n",
    "    lemma=word[:-5]\n",
    "    return lemma"
   ]
  },
  {
   "cell_type": "code",
   "execution_count": 8,
   "metadata": {},
   "outputs": [],
   "source": [
    "def rule6(word):\n",
    "    lemma=word[:-1]+'ا'\n",
    "    return lemma"
   ]
  },
  {
   "cell_type": "code",
   "execution_count": 9,
   "metadata": {},
   "outputs": [],
   "source": [
    "def rule7(word):\n",
    "    lemma=word[2:]\n",
    "    return lemma"
   ]
  },
  {
   "cell_type": "code",
   "execution_count": 10,
   "metadata": {},
   "outputs": [],
   "source": [
    "def rule8(word):\n",
    "    lemma=word[3:]\n",
    "    return lemma"
   ]
  },
  {
   "cell_type": "code",
   "execution_count": 11,
   "metadata": {},
   "outputs": [
    {
     "name": "stdout",
     "output_type": "stream",
     "text": [
      "پاکستان\n"
     ]
    }
   ],
   "source": [
    "word=lemmatize('غیرپاکستانی')\n",
    "print(word)"
   ]
  },
  {
   "cell_type": "code",
   "execution_count": 16,
   "metadata": {},
   "outputs": [
    {
     "name": "stdout",
     "output_type": "stream",
     "text": [
      "پیغامات پیغام\n",
      "خاموشی خاموش\n",
      "ڈالیاں ڈال\n",
      "موہتاجی موہتاج\n",
      "نباتات نب\n",
      "بکرياں بکري\n",
      "کتابيں کتاب\n",
      "لڑکياں لڑکي\n",
      "لڑکوں لڑک\n",
      "گاڑیاں گاڑ\n",
      "لڑکے لڑکا\n",
      "پاکستانیوں پاکستان\n",
      "پاکستانی پاکستان\n"
     ]
    }
   ],
   "source": [
    "words=[\"پیغامات\",\"خاموشی\",\"ڈالیاں\",\"موہتاجی\",\"نباتات\",\"بکرياں\",\"کتابيں\",\"لڑکياں\",\"لڑکوں\",\"گاڑیاں\",\"لڑکے\",\"پاکستانیوں\",\"پاکستانی\"]\n",
    "root=[]\n",
    "for lemma in words:\n",
    "    lemma=applyrule(lemma)\n",
    "    root.append(lemma)\n",
    "res = \"\\n\".join(\"{} {}\".format(x, y) for x, y in zip(words, root))\n",
    "print(res)"
   ]
  }
 ],
 "metadata": {
  "kernelspec": {
   "display_name": "Python 3",
   "language": "python",
   "name": "python3"
  },
  "language_info": {
   "codemirror_mode": {
    "name": "ipython",
    "version": 3
   },
   "file_extension": ".py",
   "mimetype": "text/x-python",
   "name": "python",
   "nbconvert_exporter": "python",
   "pygments_lexer": "ipython3",
   "version": "3.8.6rc1"
  }
 },
 "nbformat": 4,
 "nbformat_minor": 4
}
